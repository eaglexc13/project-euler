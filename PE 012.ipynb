{
 "cells": [
  {
   "cell_type": "code",
   "execution_count": 27,
   "metadata": {},
   "outputs": [
    {
     "name": "stdout",
     "output_type": "stream",
     "text": [
      "Solution found in 4.887948513031006 seconds: 76576500\n"
     ]
    }
   ],
   "source": [
    "import math, time\n",
    "t1 = time.time()\n",
    "n = 1\n",
    "count = 2\n",
    "divisors = []\n",
    "\n",
    "while len(divisors) < 500:\n",
    "    #print(n,\":\",len(divisors))\n",
    "    n = n + count\n",
    "    count += 1\n",
    "    divisors = [1,n]\n",
    "    for y in range(2,int(math.sqrt(n))+1):\n",
    "        if not n % y:\n",
    "            divisors.append(y)\n",
    "            if not (n // y) == y:\n",
    "                divisors.append(n//y)\n",
    "t2 = time.time()\n",
    "print(\"Solution found in\",t2-t1,\"seconds:\",n)"
   ]
  },
  {
   "cell_type": "code",
   "execution_count": 32,
   "metadata": {},
   "outputs": [
    {
     "name": "stdout",
     "output_type": "stream",
     "text": [
      "36\n"
     ]
    }
   ],
   "source": [
    "#TODO (It doesn't work)\n",
    "import math, time\n",
    "t1 = time.time()\n",
    "n = 3\n",
    "Dn = 2\n",
    "s1 = 2\n",
    "Ds1 = 1\n",
    "count = 0\n",
    "\n",
    "primeList = [2,3,5,7]\n",
    "\n",
    "for i in range(11,1000):\n",
    "    if isPrime(i):\n",
    "        primeList.append(i)\n",
    "\n",
    "while count <= 500:\n",
    "    n +=1 \n",
    "    if not n % 2:\n",
    "        s1 = n//2\n",
    "    else:\n",
    "        s1 = n\n",
    "\n",
    "    for i in range(len(primeList)):\n",
    "        if primeList[i]**2 > s1:\n",
    "            Ds1 = Ds1 * 2\n",
    "            break\n",
    "        exponent = 1\n",
    "        while not s1 % primeList[i]:\n",
    "            exponent += 1\n",
    "            s1 //= primeList[i]\n",
    "        if exponent > 1:\n",
    "            Ds1 = Ds1 * exponent\n",
    "        if s1 == 1:\n",
    "            break\n",
    "    count = Dn * Ds1\n",
    "    Dn = Ds1\n",
    "print((n*(n+1))//2)\n",
    "            "
   ]
  },
  {
   "cell_type": "code",
   "execution_count": 28,
   "metadata": {},
   "outputs": [],
   "source": [
    "import math\n",
    "def isPrime(x):\n",
    "    if x == 1:\n",
    "        return False\n",
    "    elif x < 4:\n",
    "        return True\n",
    "    elif not x % 2:\n",
    "        return False\n",
    "    elif x < 9:\n",
    "        return True\n",
    "    elif not x % 3:\n",
    "        return False\n",
    "    else:\n",
    "        r = int(math.sqrt(x))\n",
    "        f = 5\n",
    "        while f <= r:\n",
    "            if not x % f:\n",
    "                return False\n",
    "            if not x % (f+2):\n",
    "                return False\n",
    "            f += 6\n",
    "    return True"
   ]
  }
 ],
 "metadata": {
  "kernelspec": {
   "display_name": "Python 3",
   "language": "python",
   "name": "python3"
  },
  "language_info": {
   "codemirror_mode": {
    "name": "ipython",
    "version": 3
   },
   "file_extension": ".py",
   "mimetype": "text/x-python",
   "name": "python",
   "nbconvert_exporter": "python",
   "pygments_lexer": "ipython3",
   "version": "3.6.4"
  }
 },
 "nbformat": 4,
 "nbformat_minor": 2
}
