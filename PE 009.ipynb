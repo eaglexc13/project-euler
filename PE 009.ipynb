{
 "cells": [
  {
   "cell_type": "code",
   "execution_count": 27,
   "metadata": {},
   "outputs": [
    {
     "name": "stdout",
     "output_type": "stream",
     "text": [
      "200 375 425\n"
     ]
    },
    {
     "data": {
      "text/plain": [
       "31875000"
      ]
     },
     "execution_count": 27,
     "metadata": {},
     "output_type": "execute_result"
    }
   ],
   "source": [
    "def specPythag():\n",
    "    c = 0\n",
    "    for a in range(332):\n",
    "        for b in range(a+1,int((1000-a)/2),1):\n",
    "            c = 1000 - a - b\n",
    "            if(c<=b):\n",
    "                continue\n",
    "            if (a**2 + b**2 == c**2):\n",
    "                print(a,b,c)\n",
    "                return a*b*c\n",
    "specPythag()"
   ]
  },
  {
   "cell_type": "code",
   "execution_count": 29,
   "metadata": {},
   "outputs": [
    {
     "name": "stdout",
     "output_type": "stream",
     "text": [
      "180625 180625\n",
      "1000\n",
      "31875000\n"
     ]
    }
   ],
   "source": [
    "a = 200\n",
    "b = 375\n",
    "c = 425\n",
    "print(a**2 + b**2, c**2)\n",
    "print(a + b + c)\n",
    "print(a*b*c)"
   ]
  }
 ],
 "metadata": {
  "kernelspec": {
   "display_name": "Python 3",
   "language": "python",
   "name": "python3"
  },
  "language_info": {
   "codemirror_mode": {
    "name": "ipython",
    "version": 3
   },
   "file_extension": ".py",
   "mimetype": "text/x-python",
   "name": "python",
   "nbconvert_exporter": "python",
   "pygments_lexer": "ipython3",
   "version": "3.6.4"
  }
 },
 "nbformat": 4,
 "nbformat_minor": 2
}
