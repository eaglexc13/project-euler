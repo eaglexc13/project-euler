{
 "cells": [
  {
   "cell_type": "code",
   "execution_count": 48,
   "metadata": {},
   "outputs": [
    {
     "data": {
      "text/plain": [
       "10"
      ]
     },
     "execution_count": 48,
     "metadata": {},
     "output_type": "execute_result"
    }
   ],
   "source": [
    "d = {0:0,1:3,2:3,3:5,4:4,5:4,6:3,7:5,8:5,9:4,10:3,11:6,12:6,40:5,50:5,60:5,20:6,30:6,80:6,90:6,15:7,16:7,70:7,100:7,13:8,14:8,18:8,19:8,1000:11,17:9}\n",
    "\n",
    "def letCount(i):\n",
    "    if i == 100:\n",
    "        return 10\n",
    "    elif i in d:\n",
    "        return d[i]\n",
    "    elif i > 20 and i < 100:\n",
    "        return d[(i // 10)*10] + d[i % 10]\n",
    "    elif not i % 100:\n",
    "        return d[i // 100] + d[100]\n",
    "    elif (i % 100) in d:\n",
    "        return d[i // 100] + d[100] + len(\"and\") + d[i%100]\n",
    "    else:\n",
    "        return d[i // 100] + d[100] + len(\"and\") + d[((i%100) // 10)*10] + d[i % 10]\n",
    "\n",
    "letCount(100)"
   ]
  },
  {
   "cell_type": "code",
   "execution_count": 73,
   "metadata": {},
   "outputs": [
    {
     "name": "stdout",
     "output_type": "stream",
     "text": [
      "21124\n",
      "Finished in 0.0015037059783935547 seconds\n"
     ]
    }
   ],
   "source": [
    "import time as t\n",
    "start = t.time()\n",
    "sum = 0\n",
    "for i in range(1,1001):\n",
    "    sum += letCount(i)\n",
    "print(sum)\n",
    "stop = t.time()\n",
    "print(\"Finished in\",stop-start,\"seconds\")"
   ]
  }
 ],
 "metadata": {
  "kernelspec": {
   "display_name": "Python 3",
   "language": "python",
   "name": "python3"
  },
  "language_info": {
   "codemirror_mode": {
    "name": "ipython",
    "version": 3
   },
   "file_extension": ".py",
   "mimetype": "text/x-python",
   "name": "python",
   "nbconvert_exporter": "python",
   "pygments_lexer": "ipython3",
   "version": "3.6.4"
  }
 },
 "nbformat": 4,
 "nbformat_minor": 2
}
