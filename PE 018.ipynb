{
 "cells": [
  {
   "cell_type": "code",
   "execution_count": 6,
   "metadata": {},
   "outputs": [
    {
     "name": "stdout",
     "output_type": "stream",
     "text": [
      "[4, 62, 98, 27, 23, 9, 70, 98, 73, 93, 38, 53, 60, 4, 23] [125, 164, 102, 95, 112, 123, 165, 128, 166, 109, 122, 147, 100]\n",
      "[125, 164, 102, 95, 112, 123, 165, 128, 166, 109, 122, 147, 100] [255, 235, 154, 150, 140, 179, 256, 209, 224, 172, 174, 176]\n",
      "[255, 235, 154, 150, 140, 179, 256, 209, 224, 172, 174, 176] [325, 246, 187, 178, 256, 329, 273, 302, 263, 242, 193]\n",
      "[325, 246, 187, 178, 256, 329, 273, 302, 263, 242, 193] [378, 317, 231, 321, 354, 372, 393, 354, 360, 293]\n",
      "[378, 317, 231, 321, 354, 372, 393, 354, 360, 293] [419, 365, 393, 387, 419, 425, 430, 376, 454]\n",
      "[419, 365, 393, 387, 419, 425, 430, 376, 454] [460, 434, 419, 475, 508, 470, 510, 524]\n",
      "[460, 434, 419, 475, 508, 470, 510, 524] [559, 499, 479, 536, 514, 526, 594]\n",
      "[559, 499, 479, 536, 514, 526, 594] [647, 501, 613, 609, 533, 657]\n",
      "[647, 501, 613, 609, 533, 657] [666, 614, 636, 684, 660]\n",
      "[666, 614, 636, 684, 660] [686, 640, 766, 731]\n",
      "[686, 640, 766, 731] [704, 801, 853]\n",
      "[704, 801, 853] [818, 900]\n",
      "[818, 900] [995]\n",
      "[995] []\n",
      "[]\n"
     ]
    }
   ],
   "source": [
    "tri = \"\"\"75\n",
    "95 64\n",
    "17 47 82\n",
    "18 35 87 10\n",
    "20 04 82 47 65\n",
    "19 01 23 75 03 34\n",
    "88 02 77 73 07 63 67\n",
    "99 65 04 28 06 16 70 92\n",
    "41 41 26 56 83 40 80 70 33\n",
    "41 48 72 33 47 32 37 16 94 29\n",
    "53 71 44 65 25 43 91 52 97 51 14\n",
    "70 11 33 28 77 73 17 78 39 68 17 57\n",
    "91 71 52 38 17 14 91 43 58 50 27 29 48\n",
    "63 66 04 68 89 53 67 30 73 16 69 87 40 31\n",
    "04 62 98 27 23 09 70 98 73 93 38 53 60 04 23\"\"\"\n",
    "\n",
    "import copy\n",
    "\n",
    "gridTri = [line.split(\" \") for line in tri.split(\"\\n\")]\n",
    "for i in range(len(gridTri)):\n",
    "    gridTri[i] = list(map(int,gridTri[i]))\n",
    "\n",
    "bot = []\n",
    "temp = []\n",
    "\n",
    "#assign copy of gridTri[lastrow] to bot\n",
    "bot = list(gridTri[len(gridTri)-1])\n",
    "\n",
    "for row in range(len(gridTri)-2,-1,-1): #iterate rows from [2nd to last] up to first\n",
    "    for item in range(row): #iterate items in each row\n",
    "        #append (current row items + max of bot items) to temp\n",
    "        temp.append(gridTri[row][item] + max(bot[item], bot[item+1])) #gridTri[row][item]\n",
    "    print(bot,temp)\n",
    "    #make temp the new bot (now with added values)\n",
    "    bot = list(temp)\n",
    "    #reset temp\n",
    "    temp = []\n",
    "print(bot)"
   ]
  },
  {
   "cell_type": "code",
   "execution_count": 3,
   "metadata": {},
   "outputs": [
    {
     "name": "stdout",
     "output_type": "stream",
     "text": [
      "[4, 62, 98, 27, 23, 9, 70, 98, 73, 93, 38, 53, 60, 4, 23]\n"
     ]
    }
   ],
   "source": [
    "bot = list(gridTri[len(gridTri)-1])\n",
    "print(bot)"
   ]
  }
 ],
 "metadata": {
  "kernelspec": {
   "display_name": "Python 3",
   "language": "python",
   "name": "python3"
  },
  "language_info": {
   "codemirror_mode": {
    "name": "ipython",
    "version": 3
   },
   "file_extension": ".py",
   "mimetype": "text/x-python",
   "name": "python",
   "nbconvert_exporter": "python",
   "pygments_lexer": "ipython3",
   "version": "3.6.4"
  }
 },
 "nbformat": 4,
 "nbformat_minor": 2
}
