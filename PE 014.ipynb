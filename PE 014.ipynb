{
 "cells": [
  {
   "cell_type": "code",
   "execution_count": 14,
   "metadata": {},
   "outputs": [
    {
     "name": "stdout",
     "output_type": "stream",
     "text": [
      "Longest chain of length 524 starting with 837799\n"
     ]
    }
   ],
   "source": [
    "def collatz(x):\n",
    "    if x % 2 == 0:\n",
    "        return x//2\n",
    "    return 3*x + 1\n",
    "\n",
    "limit = 1000000\n",
    "count = 0\n",
    "maxCount = 0\n",
    "maxNum = 1\n",
    "\n",
    "for num in range(limit//2,limit,1):\n",
    "    #print(\"Collatz\",num)\n",
    "    count = 1\n",
    "    n = num\n",
    "    while n != 1:\n",
    "        n = collatz(n)\n",
    "        count += 1\n",
    "        #print(n)\n",
    "    if count > maxCount:\n",
    "        maxCount = count\n",
    "        maxNum = num\n",
    "\n",
    "print(\"Longest chain of length\",maxCount,\"starting with\",maxNum)"
   ]
  },
  {
   "cell_type": "code",
   "execution_count": 29,
   "metadata": {},
   "outputs": [
    {
     "name": "stdout",
     "output_type": "stream",
     "text": [
      "Longest chain of length 525 starting with 837799\n"
     ]
    }
   ],
   "source": [
    "def collatz(n):\n",
    "    if n in collatz.table:\n",
    "        return collatz.table[n]\n",
    "    if not n % 2:\n",
    "        length = collatz(n//2) + 1\n",
    "    else:\n",
    "        length = collatz((3*n+1)//2) + 2\n",
    "    collatz.table[n] = length\n",
    "    return length\n",
    "\n",
    "collatz.table = {0:0,1:1}\n",
    "\n",
    "maxNum = 0\n",
    "maxChain = 0\n",
    "limit = 1000000\n",
    "for n in range(limit//2,limit,1):\n",
    "    curChain = collatz(n)\n",
    "    if curChain > maxChain:\n",
    "        maxChain = curChain\n",
    "        maxNum = n\n",
    "\n",
    "print(\"Longest chain of length\",maxChain,\"starting with\",maxNum)"
   ]
  },
  {
   "cell_type": "code",
   "execution_count": 31,
   "metadata": {},
   "outputs": [
    {
     "name": "stdout",
     "output_type": "stream",
     "text": [
      "CacheInfo(hits=499999, misses=1588206, maxsize=None, currsize=1588206)\n",
      "Longest chain of length 525 starting with 837799\n"
     ]
    }
   ],
   "source": [
    "from functools import lru_cache\n",
    "\n",
    "@lru_cache(maxsize = None)\n",
    "def collatz(n):\n",
    "    if not n % 2:\n",
    "        return collatz(n//2) + 1\n",
    "    elif n == 1:\n",
    "        return 1\n",
    "    return collatz((3*n+1)//2) + 2\n",
    "\n",
    "maxNum = 0\n",
    "maxChain = 0\n",
    "limit = 1000000\n",
    "for n in range(limit//2,limit,1):\n",
    "    curChain = collatz(n)\n",
    "    if curChain > maxChain:\n",
    "        maxChain = curChain\n",
    "        maxNum = n\n",
    "        \n",
    "print(collatz.cache_info())\n",
    "print(\"Longest chain of length\",maxChain,\"starting with\",maxNum)"
   ]
  }
 ],
 "metadata": {
  "kernelspec": {
   "display_name": "Python 3",
   "language": "python",
   "name": "python3"
  },
  "language_info": {
   "codemirror_mode": {
    "name": "ipython",
    "version": 3
   },
   "file_extension": ".py",
   "mimetype": "text/x-python",
   "name": "python",
   "nbconvert_exporter": "python",
   "pygments_lexer": "ipython3",
   "version": "3.6.4"
  }
 },
 "nbformat": 4,
 "nbformat_minor": 2
}
