{
 "cells": [
  {
   "cell_type": "code",
   "execution_count": null,
   "metadata": {},
   "outputs": [],
   "source": [
    "import math\n",
    "def isPrime(x):\n",
    "    if x == 1:\n",
    "        return False\n",
    "    elif x < 4:\n",
    "        return True\n",
    "    elif not x % 2:\n",
    "        return False\n",
    "    elif x < 9:\n",
    "        return True\n",
    "    elif not x % 3:\n",
    "        return False\n",
    "    else:\n",
    "        r = int(math.sqrt(x))\n",
    "        f = 5\n",
    "        while f <= r:\n",
    "            if not x % f:\n",
    "                return False\n",
    "            if not x % (f+2):\n",
    "                return False\n",
    "            f += 6\n",
    "    return True\n",
    "\n",
    "for n in range(25):\n",
    "    print(n,isPrime(n))"
   ]
  },
  {
   "cell_type": "code",
   "execution_count": 5,
   "metadata": {},
   "outputs": [
    {
     "data": {
      "text/plain": [
       "True"
      ]
     },
     "execution_count": 5,
     "metadata": {},
     "output_type": "execute_result"
    }
   ],
   "source": [
    "isPrime(11)"
   ]
  }
 ],
 "metadata": {
  "kernelspec": {
   "display_name": "Python 3",
   "language": "python",
   "name": "python3"
  },
  "language_info": {
   "codemirror_mode": {
    "name": "ipython",
    "version": 3
   },
   "file_extension": ".py",
   "mimetype": "text/x-python",
   "name": "python",
   "nbconvert_exporter": "python",
   "pygments_lexer": "ipython3",
   "version": "3.6.4"
  }
 },
 "nbformat": 4,
 "nbformat_minor": 2
}
